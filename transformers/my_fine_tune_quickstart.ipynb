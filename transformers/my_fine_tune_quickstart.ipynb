{
 "cells": [
  {
   "cell_type": "code",
   "id": "initial_id",
   "metadata": {
    "collapsed": true,
    "ExecuteTime": {
     "end_time": "2024-11-17T07:53:15.734779Z",
     "start_time": "2024-11-17T07:53:05.226130Z"
    }
   },
   "source": [
    "# 数据集下载\n",
    "from datasets import load_dataset\n",
    "\n",
    "datasetDick = load_dataset(\"yelp_review_full\")"
   ],
   "outputs": [],
   "execution_count": 7
  },
  {
   "metadata": {
    "ExecuteTime": {
     "end_time": "2024-11-17T07:53:16.759938Z",
     "start_time": "2024-11-17T07:53:16.753481Z"
    }
   },
   "cell_type": "code",
   "source": [
    "print(type(datasetDick))\n",
    "type(datasetDick[\"train\"])"
   ],
   "id": "cb47beef5bd6f7eb",
   "outputs": [
    {
     "name": "stdout",
     "output_type": "stream",
     "text": [
      "<class 'datasets.dataset_dict.DatasetDict'>\n"
     ]
    },
    {
     "data": {
      "text/plain": [
       "datasets.arrow_dataset.Dataset"
      ]
     },
     "execution_count": 8,
     "metadata": {},
     "output_type": "execute_result"
    }
   ],
   "execution_count": 8
  },
  {
   "metadata": {
    "ExecuteTime": {
     "end_time": "2024-11-17T08:47:31.841424Z",
     "start_time": "2024-11-17T08:47:31.834434Z"
    }
   },
   "cell_type": "code",
   "source": [
    "import random\n",
    "import pandas as pd\n",
    "def show_random_elements(dataset, random_rows=10):\n",
    "    assert random_rows <= len(dataset), \"random_rows must be <= len(dataset)\"\n",
    "    pick_nums, not_in = (random_rows, False) if random_rows < len(dataset) / 2 else (len(dataset) - random_rows, True)\n",
    "    picks = []\n",
    "    while len(picks) < pick_nums:\n",
    "        pick = random.randint(0, len(dataset) - 1)\n",
    "        if pick not in picks:\n",
    "            picks.append(pick)\n",
    "    print(picks)\n",
    "    print(not_in)\n",
    "    choices = picks if not not_in else [i for i in range(len(dataset)) if i not in picks]\n",
    "    if not_in:\n",
    "        random.shuffle(choices)\n",
    "    \n",
    "    df = pd.DataFrame(dataset[picks])\n"
   ],
   "id": "a3dee98b2f8d75ce",
   "outputs": [],
   "execution_count": 47
  }
 ],
 "metadata": {
  "kernelspec": {
   "display_name": "Python 3",
   "language": "python",
   "name": "python3"
  },
  "language_info": {
   "codemirror_mode": {
    "name": "ipython",
    "version": 2
   },
   "file_extension": ".py",
   "mimetype": "text/x-python",
   "name": "python",
   "nbconvert_exporter": "python",
   "pygments_lexer": "ipython2",
   "version": "2.7.6"
  }
 },
 "nbformat": 4,
 "nbformat_minor": 5
}
